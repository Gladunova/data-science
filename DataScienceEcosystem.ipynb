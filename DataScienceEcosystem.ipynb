{
 "cells": [
  {
   "cell_type": "markdown",
   "id": "b7f858f1-59e3-4502-8772-ebc77cbd30b4",
   "metadata": {},
   "source": [
    "# Data Science Tools and Ecosystem"
   ]
  },
  {
   "cell_type": "markdown",
   "id": "2d0f859a-5f0f-481f-b367-a5bf9f2ac276",
   "metadata": {},
   "source": [
    "In this notebook, Data Science Tools and Ecosystem are summarized."
   ]
  },
  {
   "cell_type": "markdown",
   "id": "4a7701d1-60d2-49da-9530-b3347fe5d3b2",
   "metadata": {
    "tags": []
   },
   "source": [
    "**Objectives:**\n",
    "\n",
    "* List popular languages for Data Science\n",
    "+ Identify common data science libraries\n",
    "- Understand different development environments"
   ]
  },
  {
   "cell_type": "markdown",
   "id": "5869426e-e3c8-4030-a267-84aee0358d19",
   "metadata": {
    "tags": []
   },
   "source": [
    "Some of the popular languages that Data Scientists use are:\n",
    "1.Python\n",
    "2.R\n",
    "3.Julia\n",
    "4.Scala"
   ]
  },
  {
   "cell_type": "markdown",
   "id": "6aeb40a9-0a24-48aa-8f07-cc73ee5861f7",
   "metadata": {
    "tags": []
   },
   "source": [
    "Some of the commonly used libraries used by Data Scientists include:\n",
    "1. NumPy\n",
    "2. Pandas\n",
    "3. Matplotlib\n",
    "4. Scikit-learn\n",
    "5. TensorFlow\n",
    "\n",
    "    "
   ]
  },
  {
   "cell_type": "markdown",
   "id": "efd79ca8-1746-4586-8d80-090b59ba0e22",
   "metadata": {
    "tags": []
   },
   "source": [
    "| Data Science Tools   |\n",
    "|----------------------|\n",
    "| Jupyter Notebooks    |\n",
    "| RStudio              |\n",
    "| Apache Zeppelin      "
   ]
  },
  {
   "cell_type": "markdown",
   "id": "b067ff0b-0863-4095-a2cb-16a6b27fe952",
   "metadata": {
    "tags": []
   },
   "source": [
    "### Below are a few examples of evaluating arithmetic expressions in Python"
   ]
  },
  {
   "cell_type": "code",
   "execution_count": 5,
   "id": "02b986d3-c542-4334-95ec-bebca69c651b",
   "metadata": {
    "tags": []
   },
   "outputs": [
    {
     "data": {
      "text/plain": [
       "17"
      ]
     },
     "execution_count": 5,
     "metadata": {},
     "output_type": "execute_result"
    }
   ],
   "source": [
    "# This a simple arithmetic expression to mutiply then add integers\n",
    "(3*4)+5"
   ]
  },
  {
   "cell_type": "code",
   "execution_count": 6,
   "id": "3ea33a1e-9556-4a4d-81bd-61697f094e17",
   "metadata": {
    "tags": []
   },
   "outputs": [
    {
     "data": {
      "text/plain": [
       "3.3333333333333335"
      ]
     },
     "execution_count": 6,
     "metadata": {},
     "output_type": "execute_result"
    }
   ],
   "source": [
    "# This will convert 200 minutes to hours by diving by 60\n",
    "200/60"
   ]
  },
  {
   "cell_type": "markdown",
   "id": "6a255485-a7cc-41c2-82cc-b1d6817382ed",
   "metadata": {},
   "source": [
    "## Author\n",
    "Kateryna Gladunova"
   ]
  },
  {
   "cell_type": "code",
   "execution_count": null,
   "id": "c0c996b6-ef93-485b-9393-90f24078535e",
   "metadata": {},
   "outputs": [],
   "source": []
  }
 ],
 "metadata": {
  "kernelspec": {
   "display_name": "Python",
   "language": "python",
   "name": "conda-env-python-py"
  },
  "language_info": {
   "codemirror_mode": {
    "name": "ipython",
    "version": 3
   },
   "file_extension": ".py",
   "mimetype": "text/x-python",
   "name": "python",
   "nbconvert_exporter": "python",
   "pygments_lexer": "ipython3",
   "version": "3.7.12"
  }
 },
 "nbformat": 4,
 "nbformat_minor": 5
}
